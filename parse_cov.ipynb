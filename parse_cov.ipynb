{
 "cells": [
  {
   "cell_type": "code",
   "execution_count": 1,
   "metadata": {
    "collapsed": true
   },
   "outputs": [],
   "source": [
    "import pandas as pd\n",
    "import numpy as np\n",
    "from io import StringIO\n",
    "import matplotlib.pyplot as plt\n",
    "%matplotlib inline\n",
    "\n",
    "from ipywidgets import FloatProgress\n",
    "from IPython.display import display"
   ]
  },
  {
   "cell_type": "markdown",
   "metadata": {},
   "source": [
    "Open cov data, set group constant based on the data"
   ]
  },
  {
   "cell_type": "code",
   "execution_count": 2,
   "metadata": {},
   "outputs": [],
   "source": [
    "f = open('scale.rev08.252groupcov7.1.new.toc', 'r')"
   ]
  },
  {
   "cell_type": "code",
   "execution_count": 3,
   "metadata": {
    "collapsed": true
   },
   "outputs": [],
   "source": [
    "_COV_GROUPS = 252"
   ]
  },
  {
   "cell_type": "markdown",
   "metadata": {},
   "source": [
    "Some helper functions"
   ]
  },
  {
   "cell_type": "code",
   "execution_count": 4,
   "metadata": {
    "collapsed": true
   },
   "outputs": [],
   "source": [
    "def parse_material_line(line):\n",
    "    \"\"\"\n",
    "    Parses a line like\n",
    "     Material 1= 1013027 reaction 1= 2, Material 2= 1013027 reaction 2= 2\n",
    "    for mat # and rx #\n",
    "    \"\"\"\n",
    "    parts = line.strip().split()\n",
    "    #\n",
    "    mat_id_1 = int(parts[2])\n",
    "    rx_1 = int(parts[5].rstrip(','))\n",
    "    \n",
    "    mat_id_2 = int(parts[8])\n",
    "    rx_2 = int(parts[11])\n",
    "    \n",
    "    return mat_id_1, rx_1, mat_id_2, rx_2\n"
   ]
  },
  {
   "cell_type": "code",
   "execution_count": 5,
   "metadata": {
    "collapsed": true
   },
   "outputs": [],
   "source": [
    "def read_corr_mat(f):\n",
    "    \"\"\"\n",
    "    Reads lines in f generating a corr matrix by parsing the found corr lines\n",
    "    \"\"\"\n",
    "    \n",
    "    df = pd.DataFrame(index=range(1, 1+_COV_GROUPS), columns=range(1, 1+_COV_GROUPS))\n",
    "    \n",
    "    for line in f:\n",
    "        if 'column' in line:\n",
    "            # skip this line that only contains column\n",
    "            header = [int(i) for i in f.readline().split()]\n",
    "            # skip the next line that is ---- ---- (seperators)\n",
    "            f.readline()\n",
    "            # read all the cov group for this chunk of data\n",
    "            \n",
    "            cov_lines = [f.readline() for i in range(_COV_GROUPS)]\n",
    "            str_line = StringIO(' '.join(cov_lines))\n",
    "            _temp_df = pd.read_csv(str_line, delim_whitespace=True, header=None)\n",
    "            df.loc[:, header] = _temp_df.iloc[:, 1:].values\n",
    "            \n",
    "        if header[-1] == _COV_GROUPS:\n",
    "            break\n",
    "\n",
    "    return df\n",
    "        \n",
    "    "
   ]
  },
  {
   "cell_type": "markdown",
   "metadata": {},
   "source": [
    "Header for std dev tables"
   ]
  },
  {
   "cell_type": "code",
   "execution_count": 6,
   "metadata": {
    "collapsed": true
   },
   "outputs": [],
   "source": [
    "std_dev_header = ['groups', 'e low', 'e high', 'x-sec(1)', 'x-sec(2)', 'rel.s.d.(1)',  'rel.s.d(2)', 's.d.(1)', 's.d(2)']"
   ]
  },
  {
   "cell_type": "markdown",
   "metadata": {},
   "source": [
    "Setup hdf5 table to store data in"
   ]
  },
  {
   "cell_type": "code",
   "execution_count": 7,
   "metadata": {},
   "outputs": [],
   "source": [
    "h = pd.HDFStore('scale_cov_252.h5', 'w')\n",
    "#h['mat_1/rx_1/with_mat_2/rx_2/std_dev'] = std_dev_df\n",
    "#h['mat_1/rx_1/with_mat_2/rx_2/corr'] = corr_mat_df"
   ]
  },
  {
   "cell_type": "markdown",
   "metadata": {},
   "source": [
    "Optionally turn off warnings so we can label variables as #'s which are not python variable names"
   ]
  },
  {
   "cell_type": "code",
   "execution_count": 8,
   "metadata": {
    "collapsed": true
   },
   "outputs": [],
   "source": [
    "import warnings\n",
    "warnings.filterwarnings('ignore')"
   ]
  },
  {
   "cell_type": "markdown",
   "metadata": {},
   "source": [
    "Parse the tables"
   ]
  },
  {
   "cell_type": "code",
   "execution_count": 9,
   "metadata": {},
   "outputs": [
    {
     "data": {
      "application/vnd.jupyter.widget-view+json": {
       "model_id": "83a0c0457bdd4a6aa7a47e94bca5378b"
      }
     },
     "metadata": {},
     "output_type": "display_data"
    }
   ],
   "source": [
    "prog_bar = FloatProgress(min=0, max=4563 - 1) # number of cov matrix in scale data - 1\n",
    "display(prog_bar)\n",
    "\n",
    "for line in f:\n",
    "    # this outer loop keeps things going until the EOF\n",
    "    if 'Material' in line:\n",
    "        mat_id_1, rx_1, mat_id_2, rx_2 = parse_material_line(line)\n",
    "\n",
    "        # read forward # groups lines\n",
    "        cov_lines = [f.readline() for i in range(_COV_GROUPS + 1)] # first line is header, include it when reading\n",
    "        str_line = StringIO(' '.join(cov_lines[1:])) # remove the first line which is header\n",
    "        std_dev_df = pd.read_csv(str_line, delim_whitespace=True, header=None)\n",
    "        std_dev_df.columns = std_dev_header\n",
    "        std_dev_df.set_index('groups', inplace=True)\n",
    "    \n",
    "        f.readline() #   *** correlation matrix ***\n",
    "        f.readline() #  column=material 1     row=material 2\n",
    "        corr_mat_df = read_corr_mat(f)\n",
    "        h.put('{0}/{1}/{2}/{3}/std_dev'.format(mat_id_1, rx_1, mat_id_2, rx_2), std_dev_df)\n",
    "        h.put('{0}/{1}/{2}/{3}/corr'.format(mat_id_1, rx_1, mat_id_2, rx_2), corr_mat_df)\n",
    "        prog_bar.value += 1\n"
   ]
  },
  {
   "cell_type": "code",
   "execution_count": 10,
   "metadata": {},
   "outputs": [],
   "source": [
    "h.close()\n",
    "f.close()"
   ]
  },
  {
   "cell_type": "code",
   "execution_count": null,
   "metadata": {
    "collapsed": true
   },
   "outputs": [],
   "source": []
  }
 ],
 "metadata": {
  "hide_input": false,
  "kernelspec": {
   "display_name": "Python 3",
   "language": "python",
   "name": "python3"
  },
  "language_info": {
   "codemirror_mode": {
    "name": "ipython",
    "version": 3
   },
   "file_extension": ".py",
   "mimetype": "text/x-python",
   "name": "python",
   "nbconvert_exporter": "python",
   "pygments_lexer": "ipython3",
   "version": "3.6.1"
  },
  "latex_envs": {
   "LaTeX_envs_menu_present": true,
   "bibliofile": "biblio.bib",
   "cite_by": "apalike",
   "current_citInitial": 1,
   "eqLabelWithNumbers": true,
   "eqNumInitial": 1,
   "labels_anchors": false,
   "latex_user_defs": false,
   "report_style_numbering": false,
   "user_envs_cfg": false
  }
 },
 "nbformat": 4,
 "nbformat_minor": 2
}
