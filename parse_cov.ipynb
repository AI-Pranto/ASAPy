{
 "cells": [
  {
   "cell_type": "code",
   "execution_count": 1,
   "metadata": {
    "collapsed": true
   },
   "outputs": [],
   "source": [
    "import pandas as pd\n",
    "import numpy as np\n",
    "from io import StringIO\n",
    "import matplotlib.pyplot as plt\n",
    "%matplotlib inline\n",
    "\n",
    "from ipywidgets import FloatProgress\n",
    "from IPython.display import display\n",
    "\n",
    "idx = pd.IndexSlice"
   ]
  },
  {
   "cell_type": "markdown",
   "metadata": {},
   "source": [
    "Open cov data, set group constant based on the data"
   ]
  },
  {
   "cell_type": "code",
   "execution_count": 2,
   "metadata": {
    "collapsed": true
   },
   "outputs": [],
   "source": [
    "f = open('scale.rev08.252groupcov7.1.new.toc', 'r')"
   ]
  },
  {
   "cell_type": "code",
   "execution_count": 2,
   "metadata": {
    "collapsed": true
   },
   "outputs": [],
   "source": [
    "_COV_GROUPS = 252"
   ]
  },
  {
   "cell_type": "markdown",
   "metadata": {},
   "source": [
    "Some helper functions"
   ]
  },
  {
   "cell_type": "code",
   "execution_count": 3,
   "metadata": {
    "collapsed": true
   },
   "outputs": [],
   "source": [
    "def parse_material_line(line):\n",
    "    \"\"\"\n",
    "    Parses a line like\n",
    "     Material 1= 1013027 reaction 1= 2, Material 2= 1013027 reaction 2= 2\n",
    "    for mat # and rx #\n",
    "    \"\"\"\n",
    "    parts = line.strip().split()\n",
    "    #\n",
    "    mat_id_1 = int(parts[2])\n",
    "    rx_1 = int(parts[5].rstrip(','))\n",
    "    \n",
    "    mat_id_2 = int(parts[8])\n",
    "    rx_2 = int(parts[11])\n",
    "    \n",
    "    return mat_id_1, rx_1, mat_id_2, rx_2\n"
   ]
  },
  {
   "cell_type": "code",
   "execution_count": 120,
   "metadata": {},
   "outputs": [],
   "source": [
    "def parse_material_line_tendl(line):\n",
    "    \"\"\"\n",
    "    Parses a line like \n",
    "     material mat-mt=(5459,  1)\n",
    "     or\n",
    "    1st material mat-mt=(5459,  1)  vs  2nd material mat-mt=(5459,  2)\n",
    "    for mat # and rx #\n",
    "    \"\"\"\n",
    "    parts = line.strip().split('=')\n",
    "    if len(parts) == 2:\n",
    "        zaid_mt = parts[-1].lstrip('(').rstrip(')')\n",
    "\n",
    "        zaid_mt = zaid_mt.split(',')\n",
    "        mat_id_1 = int(zaid_mt[0])\n",
    "        rx_1 = int(zaid_mt[1])\n",
    "\n",
    "        mat_id_2 = mat_id_1\n",
    "        rx_2 = rx_1\n",
    "    elif len(parts) == 3:\n",
    "        zaid_mt = parts[1].lstrip('(').rstrip('  vs  2nd material mat-mt').rstrip(')')\n",
    "        zaid_mt = zaid_mt.split(',')\n",
    "        mat_id_1 = int(zaid_mt[0])\n",
    "        rx_1 = int(zaid_mt[1])\n",
    "        \n",
    "        zaid_mt = parts[2].lstrip('(').rstrip(')')\n",
    "        zaid_mt = zaid_mt.split(',')\n",
    "        mat_id_2 = int(zaid_mt[0])\n",
    "        rx_2 = int(zaid_mt[1])\n",
    "    else:\n",
    "        raise Exception('Got unknown format material line {0}'.format(line))\n",
    "    \n",
    "    return mat_id_1, rx_1, mat_id_2, rx_2\n",
    "\n",
    "def fixed_split(line, length=5):\n",
    "    'chunks a line up into length pieces'\n",
    "    split_line = []\n",
    "    _l = ''\n",
    "    for c in line:\n",
    "        _l += c\n",
    "        if len(_l) == length:\n",
    "            if _l == '*****':\n",
    "                _l = 0\n",
    "            split_line.append(int(_l))\n",
    "            _l = ''\n",
    "    return split_line\n",
    "        \n",
    "        \n",
    "def read_corr_mat_tendl(f, COV_GROUPS):\n",
    "    \"\"\"\n",
    "    Reads lines in f generating a corr matrix by parsing the found corr lines\n",
    "    \n",
    "    Parameters\n",
    "    ----------\n",
    "    COV_GROUPS : int\n",
    "        The longest cov group in the file\n",
    "    \"\"\"\n",
    "    \n",
    "    _COV_GROUPS = COV_GROUPS\n",
    "    df = pd.DataFrame(index=range(1, 1+_COV_GROUPS), columns=range(1, 1+_COV_GROUPS))\n",
    "    \n",
    "    force_row_in_line = False\n",
    "    for line in f:\n",
    "        if force_row_in_line:\n",
    "            line = l_full\n",
    "            \n",
    "        if ('row' in line and 'material' not in line) or force_row_in_line:\n",
    "            # skip this line that only contains column\n",
    "            header = [int(i) for i in line.split()[1:]]\n",
    "            # skip the next line that is column-------------\n",
    "            if not force_row_in_line:\n",
    "                # if we accidently read the row line, we don't need this readline\n",
    "                f.readline()\n",
    "                \n",
    "            # reset the row reader since it should not be true more than once in a row\n",
    "            force_row_in_line = False\n",
    "            \n",
    "            # if less than 25 groups present in correlation matrix, only read that many (check that row[0] = 1)\n",
    "            if len(header) < 25 and header[0] == 1:\n",
    "                _COV_GROUPS = len(header)\n",
    "                df = pd.DataFrame(index=range(1, 1+_COV_GROUPS), columns=range(1, 1+_COV_GROUPS))\n",
    "                cov_lines = [f.readline().rstrip('\\n')[6:] for i in range(_COV_GROUPS)]\n",
    "                \n",
    "            else:\n",
    "                # now there can still be a chance we have more than 25 but less than the given _COV_GROUPS\n",
    "                # this requires a readahead..\n",
    "\n",
    "                # tendl often gives the same group structure but the cov size changes\n",
    "                cov_lines = []\n",
    "                for i in range(_COV_GROUPS):\n",
    "                    l_full = f.readline()\n",
    "                    l = l_full.rstrip('\\n')[6:]\n",
    "                    # this breaks at a row\n",
    "                    if 'row' in l_full:\n",
    "                        # got to row while in _COV_GROUPS read loop\n",
    "                        if len(cov_lines) != df.shape[0]:\n",
    "                            # remake the df, change _COV_GROUPS\n",
    "                            _COV_GROUPS = len(cov_lines)\n",
    "                            df = pd.DataFrame(index=range(1, 1+_COV_GROUPS), columns=range(1, 1+_COV_GROUPS))\n",
    "                        force_row_in_line = True\n",
    "                        break\n",
    "                    cov_lines.append(l)\n",
    "            try:\n",
    "                data = [fixed_split(c, length=5) for c in cov_lines]\n",
    "            except:\n",
    "                print(cov_lines)\n",
    "                blah\n",
    "            \n",
    "            _temp_df = pd.DataFrame(data)\n",
    "\n",
    "            df.loc[:, header] = _temp_df.values\n",
    "            \n",
    "        if header[-1] == _COV_GROUPS or len(header) < 25:\n",
    "            force_row_in_line = False\n",
    "            _COV_GROUPS = COV_GROUPS\n",
    "            break\n",
    "\n",
    "\n",
    "    return df\n",
    "        \n",
    "    "
   ]
  },
  {
   "cell_type": "code",
   "execution_count": 5,
   "metadata": {
    "collapsed": true
   },
   "outputs": [],
   "source": [
    "def read_corr_mat(f):\n",
    "    \"\"\"\n",
    "    Reads lines in f generating a corr matrix by parsing the found corr lines\n",
    "    \"\"\"\n",
    "    \n",
    "    df = pd.DataFrame(index=range(1, 1+_COV_GROUPS), columns=range(1, 1+_COV_GROUPS))\n",
    "    \n",
    "    for line in f:\n",
    "        if 'column' in line:\n",
    "            # skip this line that only contains column\n",
    "            header = [int(i) for i in f.readline().split()]\n",
    "            # skip the next line that is ---- ---- (seperators)\n",
    "            f.readline()\n",
    "            # read all the cov group for this chunk of data\n",
    "            \n",
    "            cov_lines = [f.readline() for i in range(_COV_GROUPS)]\n",
    "            str_line = StringIO(' '.join(cov_lines))\n",
    "            _temp_df = pd.read_csv(str_line, delim_whitespace=True, header=None)\n",
    "            df.loc[:, header] = _temp_df.iloc[:, 1:].values\n",
    "            \n",
    "        if header[-1] == _COV_GROUPS:\n",
    "            break\n",
    "\n",
    "    return df"
   ]
  },
  {
   "cell_type": "markdown",
   "metadata": {},
   "source": [
    "Header for std dev tables"
   ]
  },
  {
   "cell_type": "code",
   "execution_count": 6,
   "metadata": {
    "collapsed": true
   },
   "outputs": [],
   "source": [
    "std_dev_header = ['groups', 'e low', 'e high', 'x-sec(1)', 'x-sec(2)', 'rel.s.d.(1)',  'rel.s.d(2)', 's.d.(1)', 's.d(2)']"
   ]
  },
  {
   "cell_type": "markdown",
   "metadata": {},
   "source": [
    "Setup hdf5 table to store data in"
   ]
  },
  {
   "cell_type": "code",
   "execution_count": 63,
   "metadata": {},
   "outputs": [
    {
     "name": "stdout",
     "output_type": "stream",
     "text": [
      "uncomment to clear the cov hdf\n"
     ]
    }
   ],
   "source": [
    "print('uncomment to clear the cov hdf')\n",
    "#h = pd.HDFStore('scale_cov_252.h5', 'w')\n"
   ]
  },
  {
   "cell_type": "markdown",
   "metadata": {},
   "source": [
    "Optionally turn off warnings so we can label variables as #'s which are not python variable names"
   ]
  },
  {
   "cell_type": "code",
   "execution_count": 8,
   "metadata": {
    "collapsed": true
   },
   "outputs": [],
   "source": [
    "import warnings\n",
    "warnings.filterwarnings('ignore')"
   ]
  },
  {
   "cell_type": "markdown",
   "metadata": {},
   "source": [
    "Parse the tables"
   ]
  },
  {
   "cell_type": "code",
   "execution_count": 31,
   "metadata": {},
   "outputs": [
    {
     "data": {
      "application/vnd.jupyter.widget-view+json": {
       "model_id": "b4a733f0b3f846a4867ea8ddab75b2a7"
      }
     },
     "metadata": {},
     "output_type": "display_data"
    },
    {
     "ename": "ValueError",
     "evalue": "I/O operation on closed file.",
     "output_type": "error",
     "traceback": [
      "\u001b[0;31m---------------------------------------------------------------------------\u001b[0m",
      "\u001b[0;31mValueError\u001b[0m                                Traceback (most recent call last)",
      "\u001b[0;32m<ipython-input-31-43e55b3fcb0c>\u001b[0m in \u001b[0;36m<module>\u001b[0;34m()\u001b[0m\n\u001b[1;32m      2\u001b[0m \u001b[0mdisplay\u001b[0m\u001b[0;34m(\u001b[0m\u001b[0mprog_bar\u001b[0m\u001b[0;34m)\u001b[0m\u001b[0;34m\u001b[0m\u001b[0m\n\u001b[1;32m      3\u001b[0m \u001b[0;34m\u001b[0m\u001b[0m\n\u001b[0;32m----> 4\u001b[0;31m \u001b[0;32mfor\u001b[0m \u001b[0mline\u001b[0m \u001b[0;32min\u001b[0m \u001b[0mf\u001b[0m\u001b[0;34m:\u001b[0m\u001b[0;34m\u001b[0m\u001b[0m\n\u001b[0m\u001b[1;32m      5\u001b[0m     \u001b[0;31m# this outer loop keeps things going until the EOF\u001b[0m\u001b[0;34m\u001b[0m\u001b[0;34m\u001b[0m\u001b[0m\n\u001b[1;32m      6\u001b[0m     \u001b[0;32mif\u001b[0m \u001b[0;34m'Material'\u001b[0m \u001b[0;32min\u001b[0m \u001b[0mline\u001b[0m\u001b[0;34m:\u001b[0m\u001b[0;34m\u001b[0m\u001b[0m\n",
      "\u001b[0;31mValueError\u001b[0m: I/O operation on closed file."
     ]
    }
   ],
   "source": [
    "prog_bar = FloatProgress(min=0, max=4563 - 1) # number of cov matrix in scale data - 1\n",
    "display(prog_bar)\n",
    "\n",
    "for line in f:\n",
    "    # this outer loop keeps things going until the EOF\n",
    "    if 'Material' in line:\n",
    "        mat_id_1, rx_1, mat_id_2, rx_2 = parse_material_line(line)\n",
    "\n",
    "        # read forward # groups lines\n",
    "        cov_lines = [f.readline() for i in range(_COV_GROUPS + 1)] # first line is header, include it when reading\n",
    "        str_line = StringIO(' '.join(cov_lines[1:])) # remove the first line which is header\n",
    "        std_dev_df = pd.read_csv(str_line, delim_whitespace=True, header=None)\n",
    "        std_dev_df.columns = std_dev_header\n",
    "        std_dev_df.set_index('groups', inplace=True)\n",
    "    \n",
    "        f.readline() #   *** correlation matrix ***\n",
    "        f.readline() #  column=material 1     row=material 2\n",
    "        corr_mat_df = read_corr_mat(f)\n",
    "        h.put('{0}/{1}/{2}/{3}/std_dev'.format(mat_id_1, rx_1, mat_id_2, rx_2), std_dev_df)\n",
    "        h.put('{0}/{1}/{2}/{3}/corr'.format(mat_id_1, rx_1, mat_id_2, rx_2), corr_mat_df)\n",
    "        prog_bar.value += 1\n"
   ]
  },
  {
   "cell_type": "code",
   "execution_count": 10,
   "metadata": {
    "collapsed": true
   },
   "outputs": [],
   "source": [
    "h.close()\n",
    "f.close()"
   ]
  },
  {
   "cell_type": "markdown",
   "metadata": {},
   "source": [
    "# Another hack to parse TENDL cov "
   ]
  },
  {
   "cell_type": "code",
   "execution_count": 122,
   "metadata": {
    "collapsed": true
   },
   "outputs": [],
   "source": [
    "h = pd.HDFStore('scale_cov_252.h5', 'a')"
   ]
  },
  {
   "cell_type": "code",
   "execution_count": 123,
   "metadata": {},
   "outputs": [
    {
     "name": "stdout",
     "output_type": "stream",
     "text": [
      "5459/1/5459/1/std_dev\n",
      "5459/1/5459/2/std_dev\n",
      "5459/1/5459/3/std_dev\n",
      "5459/1/5459/4/std_dev\n",
      "5459/1/5459/16/std_dev\n",
      "5459/1/5459/51/std_dev\n",
      "5459/1/5459/91/std_dev\n",
      "5459/1/5459/102/std_dev\n",
      "5459/1/5459/103/std_dev\n",
      "5459/1/5459/107/std_dev\n",
      "5459/2/5459/2/std_dev\n",
      "5459/2/5459/3/std_dev\n",
      "5459/2/5459/4/std_dev\n",
      "5459/2/5459/16/std_dev\n",
      "5459/2/5459/51/std_dev\n",
      "5459/2/5459/91/std_dev\n",
      "5459/2/5459/102/std_dev\n",
      "5459/2/5459/103/std_dev\n",
      "5459/2/5459/107/std_dev\n",
      "5459/3/5459/3/std_dev\n",
      "5459/3/5459/4/std_dev\n",
      "5459/3/5459/16/std_dev\n",
      "5459/3/5459/51/std_dev\n",
      "5459/3/5459/91/std_dev\n",
      "5459/3/5459/102/std_dev\n",
      "5459/3/5459/103/std_dev\n",
      "5459/3/5459/107/std_dev\n",
      "5459/4/5459/4/std_dev\n",
      "5459/16/5459/16/std_dev\n",
      "5459/17/5459/17/std_dev\n",
      "5459/22/5459/22/std_dev\n",
      "5459/24/5459/24/std_dev\n",
      "5459/28/5459/28/std_dev\n",
      "5459/32/5459/32/std_dev\n",
      "5459/33/5459/33/std_dev\n",
      "5459/41/5459/41/std_dev\n",
      "5459/51/5459/51/std_dev\n",
      "5459/51/5459/91/std_dev\n",
      "5459/51/5459/102/std_dev\n",
      "5459/51/5459/103/std_dev\n",
      "5459/51/5459/107/std_dev\n",
      "5459/53/5459/53/std_dev\n",
      "5459/54/5459/54/std_dev\n",
      "5459/91/5459/91/std_dev\n",
      "5459/91/5459/102/std_dev\n",
      "5459/91/5459/103/std_dev\n",
      "5459/91/5459/107/std_dev\n",
      "5459/102/5459/102/std_dev\n",
      "5459/102/5459/103/std_dev\n",
      "5459/102/5459/107/std_dev\n",
      "5459/103/5459/103/std_dev\n",
      "5459/103/5459/107/std_dev\n",
      "5459/104/5459/104/std_dev\n",
      "5459/105/5459/105/std_dev\n",
      "5459/106/5459/106/std_dev\n",
      "5459/107/5459/107/std_dev\n",
      "5459/112/5459/112/std_dev\n"
     ]
    }
   ],
   "source": [
    "_COV_GROUPS = 187\n",
    "std_dev_header = ['groups', 'e low', 'e high', 'x-sec(1)', 'x-sec(2)', 'rel.s.d.(1)',  'rel.s.d(2)', 's.d.(1)', 's.d(2)']\n",
    "with open('./xe135m/Xe135m-njoy-cov-187g.all.300.K.matrix.txt') as f:\n",
    "    for line in f:\n",
    "        # this outer loop keeps things going until the EOF\n",
    "        if 'material' in line:\n",
    "            mat_id_1, rx_1, mat_id_2, rx_2 = parse_material_line_tendl(line)\n",
    "\n",
    "            # read forward # groups lines\n",
    "            cov_lines = [f.readline() for i in range(_COV_GROUPS + 1)] # first line is header, include it when reading\n",
    "            str_line = StringIO(' '.join(cov_lines[1:])) # remove the first line which is header\n",
    "            std_dev_df = pd.read_csv(str_line, delim_whitespace=True, header=None)\n",
    "\n",
    "            # make the TENDL cov xsec look like the SCALE ones\n",
    "            if std_dev_df.shape[1] == 5:\n",
    "                std_dev_df.columns = ['groups', 'e high', 'x-sec(1)', 'rel.s.d.(1)', 's.d.(1)']\n",
    "                std_dev_df['e low'] = std_dev_df['e high']\n",
    "                std_dev_df.loc[idx[0:_COV_GROUPS-2], 'e low'] = std_dev_df.loc[idx[1:_COV_GROUPS-1], 'e low'].values\n",
    "                std_dev_df.loc[_COV_GROUPS-1, 'e low'] = 0\n",
    "                std_dev_df.loc[:, 'x-sec(2)'] = std_dev_df.loc[:, 'x-sec(1)']\n",
    "                std_dev_df.loc[:, 's.d(2)'] = std_dev_df.loc[:, 's.d.(1)']\n",
    "                std_dev_df.loc[:, 'rel.s.d(2)'] = std_dev_df.loc[:, 'rel.s.d.(1)']\n",
    "            elif std_dev_df.shape[1] == 6:\n",
    "                std_dev_df.columns = ['groups', 'e high', 'x-sec(1)', 'x-sec(2)', 'rel.s.d.(1)', 'rel.s.d(2)']\n",
    "                std_dev_df['e low'] = std_dev_df['e high']\n",
    "                std_dev_df.loc[idx[0:_COV_GROUPS-2], 'e low'] = std_dev_df.loc[idx[1:_COV_GROUPS-1], 'e low'].values\n",
    "                std_dev_df.loc[_COV_GROUPS-1, 'e low'] = 0\n",
    "                std_dev_df.loc[:, 's.d.(1)'] = std_dev_df.loc[:, 'x-sec(1)'].values * std_dev_df.loc[:, 'rel.s.d.(1)'].values\n",
    "                std_dev_df.loc[:, 's.d(2)'] = std_dev_df.loc[:, 'x-sec(2)'].values * std_dev_df.loc[:, 'rel.s.d(2)'].values\n",
    "            else:\n",
    "                raise Exception('got different than 5 or 6 columns in xsec')\n",
    "\n",
    "            std_dev_df = std_dev_df.reindex(columns=std_dev_header)\n",
    "            \n",
    "            std_dev_df.set_index('groups', inplace=True)\n",
    "\n",
    "            f.readline() #   *** correlation matrix ***\n",
    "            f.readline() #    column material mat-mt=(5459, 28)  vs  row material mat-mt=(5459, 28)\n",
    "\n",
    "            corr_mat_df = read_corr_mat_tendl(f, _COV_GROUPS)\n",
    "            print('{0}/{1}/{2}/{3}/std_dev'.format(mat_id_1, rx_1, mat_id_2, rx_2))\n",
    "            h.put('{0}/{1}/{2}/{3}/std_dev'.format(mat_id_1, rx_1, mat_id_2, rx_2), std_dev_df)\n",
    "            h.put('{0}/{1}/{2}/{3}/corr'.format(mat_id_1, rx_1, mat_id_2, rx_2), corr_mat_df)\n",
    "\n",
    "h.close()"
   ]
  },
  {
   "cell_type": "code",
   "execution_count": 124,
   "metadata": {},
   "outputs": [],
   "source": [
    "h = pd.HDFStore('scale_cov_252.h5', 'a')"
   ]
  },
  {
   "cell_type": "code",
   "execution_count": 125,
   "metadata": {},
   "outputs": [],
   "source": [
    "d = h['5459/102/5459/102/corr']"
   ]
  },
  {
   "cell_type": "code",
   "execution_count": 146,
   "metadata": {},
   "outputs": [
    {
     "data": {
      "image/png": "[encoded data removed]",
      "text/plain": [
       "<matplotlib.figure.Figure at 0x12032e0f0>"
      ]
     },
     "metadata": {},
     "output_type": "display_data"
    }
   ],
   "source": [
    "fig, ax = plt.subplots()\n",
    "c = ax.matshow(d.values/1000)\n",
    "plt.colorbar(c)\n",
    "ax.set_xlabel('Group')\n",
    "ax.xaxis.set_label_position('top') \n",
    "ax.set_ylabel('Group')\n",
    "plt.tight_layout()\n",
    "plt.savefig('xe135m_mt=102_corr.eps')"
   ]
  },
  {
   "cell_type": "code",
   "execution_count": 134,
   "metadata": {},
   "outputs": [],
   "source": [
    "h.close()"
   ]
  },
  {
   "cell_type": "code",
   "execution_count": null,
   "metadata": {
    "collapsed": true
   },
   "outputs": [],
   "source": []
  }
 ],
 "metadata": {
  "hide_input": false,
  "kernelspec": {
   "display_name": "Python 3",
   "language": "python",
   "name": "python3"
  },
  "language_info": {
   "codemirror_mode": {
    "name": "ipython",
    "version": 3
   },
   "file_extension": ".py",
   "mimetype": "text/x-python",
   "name": "python",
   "nbconvert_exporter": "python",
   "pygments_lexer": "ipython3",
   "version": "3.6.1"
  },
  "latex_envs": {
   "LaTeX_envs_menu_present": true,
   "bibliofile": "biblio.bib",
   "cite_by": "apalike",
   "current_citInitial": 1,
   "eqLabelWithNumbers": true,
   "eqNumInitial": 1,
   "labels_anchors": false,
   "latex_user_defs": false,
   "report_style_numbering": false,
   "user_envs_cfg": false
  }
 },
 "nbformat": 4,
 "nbformat_minor": 2
}
